{
 "cells": [
  {
   "cell_type": "code",
   "execution_count": 1,
   "metadata": {},
   "outputs": [],
   "source": [
    "import os\n",
    "import os\n",
    "import time\n",
    "import json\n",
    "import yaml\n",
    "\n",
    "import os\n",
    "import time\n",
    "import json\n",
    "import pandas as pd\n",
    "import warnings\n",
    "\n",
    "# Suppress warnings\n",
    "warnings.filterwarnings('ignore')\n",
    "\n",
    "# Import Wandb for experiment tracking\n",
    "\n",
    "# Import Unsloth\n",
    "# Import HuggingFace libraries\n",
    "\n",
    "# Try to import HF token from environment\n",
    "HF_TOKEN = os.environ.get(\"HF_TOKEN\")\n",
    "\n",
    "# Disable HuggingFace tokenizers parallelism warning\n",
    "os.environ[\"TOKENIZERS_PARALLELISM\"] = \"false\""
   ]
  },
  {
   "cell_type": "markdown",
   "metadata": {},
   "source": [
    "# Be careful when interact with these below code related to repository settings."
   ]
  },
  {
   "cell_type": "code",
   "execution_count": 2,
   "metadata": {},
   "outputs": [],
   "source": [
    "# !git clone https://github.com/tuandunghcmut/Small-Qwen-Coding-Multiple-Choice.git\n",
    "# import sys\n",
    "# sys.path.append(\"Small-Qwen-Coding-Multiple-Choice\")\n",
    "\n",
    "# %cd Small-Qwen-Coding-Multiple-Choice"
   ]
  },
  {
   "cell_type": "markdown",
   "metadata": {},
   "source": [
    "# Import minimal things to run the code"
   ]
  },
  {
   "cell_type": "code",
   "execution_count": 6,
   "metadata": {},
   "outputs": [],
   "source": [
    "try:\n",
    "    import src\n",
    "except ImportError:\n",
    "    print(\"You are in the notebook folder, please run the notebook from the root folder\")\n",
    "    import sys\n",
    "    sys.path.append(\"../\")\n",
    "\n",
    "from src.model.qwen_handler import QwenModelHandler, ModelSource\n",
    "from src.prompt_processors.prompt_creator import PromptCreator"
   ]
  },
  {
   "cell_type": "code",
   "execution_count": 7,
   "metadata": {},
   "outputs": [
    {
     "name": "stdout",
     "output_type": "stream",
     "text": [
      "Loading model from HuggingFace Hub: tuandunghcmut/Qwen25_Coder_MultipleChoice_v4\n",
      "2025-04-05 03:00:57 - src.model.qwen_handler - INFO - Loading tuandunghcmut/Qwen25_Coder_MultipleChoice_v4 from unsloth, max_seq_length=2048\n"
     ]
    },
    {
     "name": "stderr",
     "output_type": "stream",
     "text": [
      "INFO:src.model.qwen_handler:Loading tuandunghcmut/Qwen25_Coder_MultipleChoice_v4 from unsloth, max_seq_length=2048\n"
     ]
    },
    {
     "name": "stdout",
     "output_type": "stream",
     "text": [
      "2025-04-05 03:00:57 - src.model.qwen_handler - INFO - Flash Attention 2 is available (package flash-attn detected)\n"
     ]
    },
    {
     "name": "stderr",
     "output_type": "stream",
     "text": [
      "INFO:src.model.qwen_handler:Flash Attention 2 is available (package flash-attn detected)\n"
     ]
    },
    {
     "name": "stdout",
     "output_type": "stream",
     "text": [
      "2025-04-05 03:00:57 - src.model.qwen_handler - INFO - Flash Attention 2 version: 2.7.4.post1\n"
     ]
    },
    {
     "name": "stderr",
     "output_type": "stream",
     "text": [
      "INFO:src.model.qwen_handler:Flash Attention 2 version: 2.7.4.post1\n"
     ]
    },
    {
     "name": "stdout",
     "output_type": "stream",
     "text": [
      "2025-04-05 03:00:57 - src.model.qwen_handler - INFO - xFormers is available (version: 0.0.29.post3)\n"
     ]
    },
    {
     "name": "stderr",
     "output_type": "stream",
     "text": [
      "INFO:src.model.qwen_handler:xFormers is available (version: 0.0.29.post3)\n"
     ]
    },
    {
     "name": "stdout",
     "output_type": "stream",
     "text": [
      "2025-04-05 03:00:57 - src.model.qwen_handler - INFO - CUDA is available (version: 12.4)\n"
     ]
    },
    {
     "name": "stderr",
     "output_type": "stream",
     "text": [
      "INFO:src.model.qwen_handler:CUDA is available (version: 12.4)\n"
     ]
    },
    {
     "name": "stdout",
     "output_type": "stream",
     "text": [
      "2025-04-05 03:00:57 - src.model.qwen_handler - INFO - Using attention implementation: default\n"
     ]
    },
    {
     "name": "stderr",
     "output_type": "stream",
     "text": [
      "INFO:src.model.qwen_handler:Using attention implementation: default\n"
     ]
    },
    {
     "name": "stdout",
     "output_type": "stream",
     "text": [
      "2025-04-05 03:00:57 - src.model.qwen_handler - INFO - Setting max memory: {0: '27620MiB'}\n"
     ]
    },
    {
     "name": "stderr",
     "output_type": "stream",
     "text": [
      "INFO:src.model.qwen_handler:Setting max memory: {0: '27620MiB'}\n"
     ]
    },
    {
     "name": "stdout",
     "output_type": "stream",
     "text": [
      "==((====))==  Unsloth 2025.3.19: Fast Qwen2 patching. Transformers: 4.50.3.\n",
      "   \\\\   /|    Tesla V100-SXM2-32GB. Num GPUs = 1. Max memory: 31.733 GB. Platform: Linux.\n",
      "O^O/ \\_/ \\    Torch: 2.6.0+cu124. CUDA: 7.0. CUDA Toolkit: 12.4. Triton: 3.2.0\n",
      "\\        /    Bfloat16 = FALSE. FA [Xformers = 0.0.29.post3. FA2 = False]\n",
      " \"-____-\"     Free license: http://github.com/unslothai/unsloth\n",
      "Unsloth: Fast downloading is enabled - ignore downloading bars which are red colored!\n",
      "2025-04-05 03:01:07 - src.model.qwen_handler - INFO - Model loaded successfully: tuandunghcmut/Qwen25_Coder_MultipleChoice_v4\n"
     ]
    },
    {
     "name": "stderr",
     "output_type": "stream",
     "text": [
      "INFO:src.model.qwen_handler:Model loaded successfully: tuandunghcmut/Qwen25_Coder_MultipleChoice_v4\n"
     ]
    },
    {
     "name": "stdout",
     "output_type": "stream",
     "text": [
      "2025-04-05 03:01:07 - src.model.qwen_handler - INFO - Model type: qwen2\n"
     ]
    },
    {
     "name": "stderr",
     "output_type": "stream",
     "text": [
      "INFO:src.model.qwen_handler:Model type: qwen2\n"
     ]
    },
    {
     "name": "stdout",
     "output_type": "stream",
     "text": [
      "2025-04-05 03:01:07 - src.model.qwen_handler - INFO - hidden_size: 1536\n"
     ]
    },
    {
     "name": "stderr",
     "output_type": "stream",
     "text": [
      "INFO:src.model.qwen_handler:hidden_size: 1536\n"
     ]
    },
    {
     "name": "stdout",
     "output_type": "stream",
     "text": [
      "2025-04-05 03:01:07 - src.model.qwen_handler - INFO - intermediate_size: 8960\n"
     ]
    },
    {
     "name": "stderr",
     "output_type": "stream",
     "text": [
      "INFO:src.model.qwen_handler:intermediate_size: 8960\n"
     ]
    },
    {
     "name": "stdout",
     "output_type": "stream",
     "text": [
      "2025-04-05 03:01:07 - src.model.qwen_handler - INFO - num_hidden_layers: 28\n"
     ]
    },
    {
     "name": "stderr",
     "output_type": "stream",
     "text": [
      "INFO:src.model.qwen_handler:num_hidden_layers: 28\n"
     ]
    },
    {
     "name": "stdout",
     "output_type": "stream",
     "text": [
      "2025-04-05 03:01:07 - src.model.qwen_handler - INFO - num_attention_heads: 12\n"
     ]
    },
    {
     "name": "stderr",
     "output_type": "stream",
     "text": [
      "INFO:src.model.qwen_handler:num_attention_heads: 12\n"
     ]
    },
    {
     "name": "stdout",
     "output_type": "stream",
     "text": [
      "2025-04-05 03:01:07 - src.model.qwen_handler - INFO - torch_dtype: float16\n"
     ]
    },
    {
     "name": "stderr",
     "output_type": "stream",
     "text": [
      "INFO:src.model.qwen_handler:torch_dtype: float16\n"
     ]
    },
    {
     "name": "stdout",
     "output_type": "stream",
     "text": [
      "Successfully loaded model from HuggingFace Hub!\n"
     ]
    }
   ],
   "source": [
    "from transformers import AutoModelForCausalLM, AutoTokenizer\n",
    "from peft import PeftModel\n",
    "import torch\n",
    "import os\n",
    "import unsloth\n",
    "from src.testing.tester import MultipleChoiceTester\n",
    "\n",
    "# ````\n",
    "# Set HuggingFace Hub credentials if available\n",
    "hf_token = os.environ.get(\"HF_TOKEN\")\n",
    "\n",
    "# Model ID on HuggingFace Hub\n",
    "hub_model_id = \"tuandunghcmut/Qwen25_Coder_MultipleChoice_v4\"\n",
    "print(f\"Loading model from HuggingFace Hub: {hub_model_id}\")\n",
    "\n",
    "try:\n",
    "\n",
    "\n",
    "    lastest_model_handler_hub = QwenModelHandler(\n",
    "        model_name=hub_model_id,\n",
    "        max_seq_length=2048,\n",
    "        # quantization=\"4bit\",\n",
    "        model_source=ModelSource.UNSLOTH,\n",
    "    )\n",
    "\n",
    "    # Use FastLanguageModel\n",
    "    from unsloth.models import FastLanguageModel\n",
    "\n",
    "    FastLanguageModel.for_inference(lastest_model_handler_hub.model)\n",
    "    prompt_creator = PromptCreator(PromptCreator.YAML_REASONING)\n",
    "    # Create a tester with the loaded model\n",
    "    latest_tester_hub = MultipleChoiceTester(\n",
    "        lastest_model_handler_hub, prompt_creator=prompt_creator\n",
    "    )\n",
    "\n",
    "    print(\"Successfully loaded model from HuggingFace Hub!\")\n",
    "\n",
    "except Exception as e:\n",
    "    print(f\"Error loading model from HuggingFace Hub: {e}\")\n",
    "    print(\"Continuing with locally trained model...\")"
   ]
  },
  {
   "cell_type": "markdown",
   "metadata": {},
   "source": [
    "# Inference Streaming"
   ]
  },
  {
   "cell_type": "code",
   "execution_count": 9,
   "metadata": {},
   "outputs": [
    {
     "name": "stdout",
     "output_type": "stream",
     "text": [
      "understanding: |\n",
      "  The question is asking which option correctly represents a list comprehension in Python. List comprehensions are a concise way to create lists using expressions and iterators.\n",
      "analysis: |\n",
      "  A. This option uses a list comprehension syntax: [expression for item in iterable]. It correctly applies the operation x**2 to each element in the range(10).\n",
      "  B. This option uses a for loop with a lambda function, which is not a list comprehension. It iterates over the range but does not use list comprehension syntax.\n",
      "  C. This option uses map with a lambda function, which is equivalent to a list comprehension but is less concise. It applies the operation x**2 but is not a list comprehension in the strict sense.\n",
      "  D. This option uses a for loop with a colon, which is syntactically incorrect for list comprehension. It does not use the correct syntax for list comprehensions.\n",
      "reasoning: |\n",
      "  List comprehensions in Python are defined using the syntax [expression for item in iterable]. Option A correctly follows this syntax, applying the operation x**2 to each element in the range(10) and returning the result as a list.\n",
      "conclusion: |\n",
      "  Option A is correct because it uses the proper list comprehension syntax, applying the operation x**2 to each element in the range(10) and returning the result as a list.\n",
      "answer: A\n"
     ]
    },
    {
     "data": {
      "text/markdown": [
       "**Predicted Answer:** A\n",
       "\n",
       "**Correct Answer:** A\n",
       "\n",
       "**Reasoning:**\n",
       "\n",
       "Understanding:\n",
       "The question is asking which option correctly represents a list comprehension in Python. List comprehensions are a concise way to create lists using expressions and iterators.\n",
       "\n",
       "\n",
       "Analysis:\n",
       "A. This option uses a list comprehension syntax, which is correct. It iterates over the range of numbers from 0 to 9, squares each number, and collects the results into a list.\n",
       "B. This option uses a for loop with a lambda function, which is syntactically similar to a list comprehension but not the same. It does not use list comprehension syntax.\n",
       "C. This option uses the map function with a lambda, which is functionally similar to a list comprehension but not the same. It does not use list comprehension syntax.\n",
       "D. This option uses a for loop with a colon, which is syntactically similar to a list comprehension but not the same. It does not use list comprehension syntax.\n",
       "\n",
       "\n",
       "Reasoning:\n",
       "List comprehensions in Python are defined using the syntax `[expression for item in iterable if condition]`. Option A correctly uses this syntax, iterating over a range and squaring each number, resulting in a list of squares. Options B, C, and D do not use this syntax, making them incorrect.\n",
       "\n",
       "\n",
       "Conclusion:\n",
       "Option A is correct because it uses the list comprehension syntax, which is the standard way to create lists in Python using expressions and iterators.\n"
      ],
      "text/plain": [
       "<IPython.core.display.Markdown object>"
      ]
     },
     "metadata": {},
     "output_type": "display_data"
    },
    {
     "data": {
      "text/markdown": [
       "---"
      ],
      "text/plain": [
       "<IPython.core.display.Markdown object>"
      ]
     },
     "metadata": {},
     "output_type": "display_data"
    },
    {
     "data": {
      "text/plain": [
       "{'question': 'Which of the following correctly defines a list comprehension in Python?',\n",
       " 'choices': '[x**2 for x in range(10)]\\nfor(x in range(10)) { return x**2; }\\nmap(lambda x: x**2, range(10))\\n[for x in range(10): x**2]',\n",
       " 'ground_truth': 'A',\n",
       " 'predicted_answer': 'A',\n",
       " 'reasoning': 'Understanding:\\nThe question is asking which option correctly represents a list comprehension in Python. List comprehensions are a concise way to create lists using expressions and iterators.\\n\\n\\nAnalysis:\\nA. This option uses a list comprehension syntax, which is correct. It iterates over the range of numbers from 0 to 9, squares each number, and collects the results into a list.\\nB. This option uses a for loop with a lambda function, which is syntactically similar to a list comprehension but not the same. It does not use list comprehension syntax.\\nC. This option uses the map function with a lambda, which is functionally similar to a list comprehension but not the same. It does not use list comprehension syntax.\\nD. This option uses a for loop with a colon, which is syntactically similar to a list comprehension but not the same. It does not use list comprehension syntax.\\n\\n\\nReasoning:\\nList comprehensions in Python are defined using the syntax `[expression for item in iterable if condition]`. Option A correctly uses this syntax, iterating over a range and squaring each number, resulting in a list of squares. Options B, C, and D do not use this syntax, making them incorrect.\\n\\n\\nConclusion:\\nOption A is correct because it uses the list comprehension syntax, which is the standard way to create lists in Python using expressions and iterators.\\n',\n",
       " 'is_correct': True,\n",
       " 'response_text': 'understanding: |\\n  The question is asking which option correctly represents a list comprehension in Python. List comprehensions are a concise way to create lists using expressions and iterators.\\nanalysis: |\\n  A. This option uses a list comprehension syntax, which is correct. It iterates over the range of numbers from 0 to 9, squares each number, and collects the results into a list.\\n  B. This option uses a for loop with a lambda function, which is syntactically similar to a list comprehension but not the same. It does not use list comprehension syntax.\\n  C. This option uses the map function with a lambda, which is functionally similar to a list comprehension but not the same. It does not use list comprehension syntax.\\n  D. This option uses a for loop with a colon, which is syntactically similar to a list comprehension but not the same. It does not use list comprehension syntax.\\nreasoning: |\\n  List comprehensions in Python are defined using the syntax `[expression for item in iterable if condition]`. Option A correctly uses this syntax, iterating over a range and squaring each number, resulting in a list of squares. Options B, C, and D do not use this syntax, making them incorrect.\\nconclusion: |\\n  Option A is correct because it uses the list comprehension syntax, which is the standard way to create lists in Python using expressions and iterators.\\nanswer: A'}"
      ]
     },
     "execution_count": 9,
     "metadata": {},
     "output_type": "execute_result"
    }
   ],
   "source": [
    "import yaml\n",
    "from IPython.display import clear_output, display, Markdown\n",
    "\n",
    "# Python example with revised prompt including a concise chain‐of‐thought explanation\n",
    "python_example = {\n",
    "    \"question\": \"Which of the following correctly defines a list comprehension in Python?\",\n",
    "    \"choices\": [\n",
    "        \"[x**2 for x in range(10)]\",\n",
    "        \"for(x in range(10)) { return x**2; }\",\n",
    "        \"map(lambda x: x**2, range(10))\",\n",
    "        \"[for x in range(10): x**2]\"\n",
    "    ],\n",
    "    \"answer\": \"A\",  # Optional ground truth\n",
    "    \"chain_of_thought\": (\n",
    "        \"understanding: The question is asking which option correctly represents a list comprehension in Python. \"\n",
    "        \"List comprehensions are a concise way to create lists using expressions and iterators.\\n\"\n",
    "        \"analysis: A. This option uses a list comprehension syntax, which is correct. It iterates over the range of numbers from 0 to 9, \"\n",
    "        \"squares each number, and collects the results into a list.\\n\"\n",
    "        \"    B. This option uses a for loop with a lambda function, which is syntactically similar to a list comprehension but not the same. \"\n",
    "        \"It does not use list comprehension syntax.\\n\"\n",
    "        \"    C. This option uses the map function with a lambda, which is functionally similar to a list comprehension but not the same. \"\n",
    "        \"It does not use list comprehension syntax.\\n\"\n",
    "        \"    D. This option uses a for loop with a colon, which is syntactically similar to a list comprehension but not the same. \"\n",
    "        \"It does not use list comprehension syntax.\\n\"\n",
    "        \"reasoning: List comprehensions in Python are defined using the syntax [expression for item in iterable if condition].\"\n",
    "    )\n",
    "}\n",
    "\n",
    "def stream_infer_example_in_notebook(example, index=1, temperature=0.0001):\n",
    "    # Display question and choices in markdown format\n",
    "    md_content = f\"## Example {index}\\n\\n\"\n",
    "    md_content += f\"**Question:** {example['question']}\\n\\n\"\n",
    "    md_content += \"**Choices:**\\n\"\n",
    "    \n",
    "    if isinstance(example[\"choices\"], list):\n",
    "        for i, choice in enumerate(example[\"choices\"]):\n",
    "            md_content += f\"- **{chr(65+i)}.** {choice}\\n\"\n",
    "    else:\n",
    "        md_content += example[\"choices\"]\n",
    "    \n",
    "    display(Markdown(md_content))\n",
    "    \n",
    "    # Start streaming response\n",
    "    display(Markdown(\"**Model Response (streaming):**\"))\n",
    "    \n",
    "    result = latest_tester_hub.infer_example(\n",
    "        example, temperature=temperature, stream=True,\n",
    "    )\n",
    "    \n",
    "    complete_response = \"\"\n",
    "    try:\n",
    "        for chunk in result:\n",
    "            # Expect each chunk to be a tuple: (prompt, formatted_response, ...)\n",
    "            if isinstance(chunk, (tuple, list)) and len(chunk) >= 2:\n",
    "                _, formatted_response, *rest = chunk\n",
    "            else:\n",
    "                formatted_response = str(chunk)\n",
    "                \n",
    "            # Accumulate the response by appending each new chunk\n",
    "            complete_response += formatted_response\n",
    "            \n",
    "            # Clear and reprint the accumulated response\n",
    "            clear_output(wait=True)\n",
    "            print(complete_response)\n",
    "    except Exception as e:\n",
    "        print(f\"Error during streaming: {e}\")\n",
    "    \n",
    "    # Display final result\n",
    "    final_result = latest_tester_hub.infer_example(\n",
    "        example, temperature=temperature, stream=False\n",
    "    )\n",
    "    \n",
    "    result_md = f\"**Predicted Answer:** {final_result['predicted_answer']}\\n\\n\"\n",
    "    if 'answer' in example:\n",
    "        result_md += f\"**Correct Answer:** {example['answer']}\\n\\n\"\n",
    "    result_md += \"**Reasoning:**\\n\\n\"\n",
    "    \n",
    "    try:\n",
    "        result_md += final_result[\"reasoning\"]\n",
    "    except Exception as e:\n",
    "        result_md += f\"Error: {e}\"\n",
    "    \n",
    "    display(Markdown(result_md))\n",
    "    display(Markdown(\"---\"))\n",
    "    \n",
    "    return final_result\n",
    "\n",
    "# Process the example\n",
    "stream_infer_example_in_notebook(python_example)\n"
   ]
  },
  {
   "cell_type": "markdown",
   "metadata": {},
   "source": [
    "# Inference without Streaming to get full completion\n",
    "\n"
   ]
  },
  {
   "cell_type": "code",
   "execution_count": 10,
   "metadata": {},
   "outputs": [],
   "source": [
    "result = latest_tester_hub.infer_example(\n",
    "    python_example, temperature=0.0001, stream=False\n",
    ")"
   ]
  },
  {
   "cell_type": "code",
   "execution_count": 11,
   "metadata": {},
   "outputs": [
    {
     "data": {
      "text/plain": [
       "{'question': 'Which of the following correctly defines a list comprehension in Python?',\n",
       " 'choices': '[x**2 for x in range(10)]\\nfor(x in range(10)) { return x**2; }\\nmap(lambda x: x**2, range(10))\\n[for x in range(10): x**2]',\n",
       " 'ground_truth': 'A',\n",
       " 'predicted_answer': 'A',\n",
       " 'reasoning': 'Understanding:\\nThe question is asking which option correctly represents a list comprehension in Python. List comprehensions are a concise way to create lists using expressions and iterators.\\n\\n\\nAnalysis:\\nA. This option uses a list comprehension syntax, which is correct. It iterates over the range of numbers from 0 to 9, squares each number, and collects the results into a list.\\nB. This option uses a for loop with a lambda function, which is syntactically similar to a list comprehension but not the same. It does not use list comprehension syntax.\\nC. This option uses the map function with a lambda, which is functionally similar to a list comprehension but not the same. It does not use list comprehension syntax.\\nD. This option uses a for loop with a colon, which is syntactically similar to a list comprehension but not the same. It does not use list comprehension syntax.\\n\\n\\nReasoning:\\nList comprehensions in Python are defined using the syntax `[expression for item in iterable if condition]`. Option A correctly uses this syntax, iterating over a range and squaring each number, resulting in a list of squares. Options B, C, and D do not use this syntax, making them incorrect.\\n\\n\\nConclusion:\\nOption A is correct because it uses the list comprehension syntax, which is the standard way to create lists in Python using expressions and iterators.\\n',\n",
       " 'is_correct': True,\n",
       " 'response_text': 'understanding: |\\n  The question is asking which option correctly represents a list comprehension in Python. List comprehensions are a concise way to create lists using expressions and iterators.\\nanalysis: |\\n  A. This option uses a list comprehension syntax, which is correct. It iterates over the range of numbers from 0 to 9, squares each number, and collects the results into a list.\\n  B. This option uses a for loop with a lambda function, which is syntactically similar to a list comprehension but not the same. It does not use list comprehension syntax.\\n  C. This option uses the map function with a lambda, which is functionally similar to a list comprehension but not the same. It does not use list comprehension syntax.\\n  D. This option uses a for loop with a colon, which is syntactically similar to a list comprehension but not the same. It does not use list comprehension syntax.\\nreasoning: |\\n  List comprehensions in Python are defined using the syntax `[expression for item in iterable if condition]`. Option A correctly uses this syntax, iterating over a range and squaring each number, resulting in a list of squares. Options B, C, and D do not use this syntax, making them incorrect.\\nconclusion: |\\n  Option A is correct because it uses the list comprehension syntax, which is the standard way to create lists in Python using expressions and iterators.\\nanswer: A'}"
      ]
     },
     "execution_count": 11,
     "metadata": {},
     "output_type": "execute_result"
    }
   ],
   "source": [
    "result"
   ]
  },
  {
   "cell_type": "markdown",
   "metadata": {},
   "source": [
    "# Load yaml completion"
   ]
  },
  {
   "cell_type": "code",
   "execution_count": 12,
   "metadata": {},
   "outputs": [
    {
     "data": {
      "text/markdown": [
       "## Full YAML Completion"
      ],
      "text/plain": [
       "<IPython.core.display.Markdown object>"
      ]
     },
     "metadata": {},
     "output_type": "display_data"
    },
    {
     "data": {
      "text/markdown": [
       "```yaml\n",
       "understanding: |\n",
       "  The question is asking which option correctly represents a list comprehension in Python. List comprehensions are a concise way to create lists using expressions and iterators.\n",
       "analysis: |\n",
       "  A. This option uses a list comprehension syntax, which is correct. It iterates over the range of numbers from 0 to 9, squares each number, and collects the results into a list.\n",
       "  B. This option uses a for loop with a lambda function, which is syntactically similar to a list comprehension but not the same. It does not use list comprehension syntax.\n",
       "  C. This option uses the map function with a lambda, which is functionally similar to a list comprehension but not the same. It does not use list comprehension syntax.\n",
       "  D. This option uses a for loop with a colon, which is syntactically similar to a list comprehension but not the same. It does not use list comprehension syntax.\n",
       "reasoning: |\n",
       "  List comprehensions in Python are defined using the syntax `[expression for item in iterable if condition]`. Option A correctly uses this syntax, iterating over a range and squaring each number, resulting in a list of squares. Options B, C, and D do not use this syntax, making them incorrect.\n",
       "conclusion: |\n",
       "  Option A is correct because it uses the list comprehension syntax, which is the standard way to create lists in Python using expressions and iterators.\n",
       "answer: A\n",
       "```"
      ],
      "text/plain": [
       "<IPython.core.display.Markdown object>"
      ]
     },
     "metadata": {},
     "output_type": "display_data"
    },
    {
     "data": {
      "text/markdown": [
       "## YAML Completion as JSON"
      ],
      "text/plain": [
       "<IPython.core.display.Markdown object>"
      ]
     },
     "metadata": {},
     "output_type": "display_data"
    },
    {
     "data": {
      "text/markdown": [
       "```json\n",
       "{\n",
       "  \"understanding\": \"The question is asking which option correctly represents a list comprehension in Python. List comprehensions are a concise way to create lists using expressions and iterators.\\n\",\n",
       "  \"analysis\": \"A. This option uses a list comprehension syntax, which is correct. It iterates over the range of numbers from 0 to 9, squares each number, and collects the results into a list.\\nB. This option uses a for loop with a lambda function, which is syntactically similar to a list comprehension but not the same. It does not use list comprehension syntax.\\nC. This option uses the map function with a lambda, which is functionally similar to a list comprehension but not the same. It does not use list comprehension syntax.\\nD. This option uses a for loop with a colon, which is syntactically similar to a list comprehension but not the same. It does not use list comprehension syntax.\\n\",\n",
       "  \"reasoning\": \"List comprehensions in Python are defined using the syntax `[expression for item in iterable if condition]`. Option A correctly uses this syntax, iterating over a range and squaring each number, resulting in a list of squares. Options B, C, and D do not use this syntax, making them incorrect.\\n\",\n",
       "  \"conclusion\": \"Option A is correct because it uses the list comprehension syntax, which is the standard way to create lists in Python using expressions and iterators.\\n\",\n",
       "  \"answer\": \"A\"\n",
       "}\n",
       "```"
      ],
      "text/plain": [
       "<IPython.core.display.Markdown object>"
      ]
     },
     "metadata": {},
     "output_type": "display_data"
    }
   ],
   "source": [
    "import yaml\n",
    "from pprint import pprint\n",
    "import json\n",
    "from IPython.display import display, Markdown\n",
    "\n",
    "try:\n",
    "    # Load yaml completion with safe loader\n",
    "    yaml_completion = yaml.safe_load(result['response_text'])\n",
    "    \n",
    "    # Display full yaml completion in markdown\n",
    "    display(Markdown(\"## Full YAML Completion\"))\n",
    "    display(Markdown(\"```yaml\\n\" + result['response_text'] + \"\\n```\"))\n",
    "    \n",
    "    # Display yaml completion in JSON format\n",
    "    display(Markdown(\"## YAML Completion as JSON\"))\n",
    "    json_formatted = json.dumps(yaml_completion, indent=2)\n",
    "    display(Markdown(\"```json\\n\" + json_formatted + \"\\n```\"))\n",
    "    \n",
    "except yaml.YAMLError as e:\n",
    "    display(Markdown(f\"**Error parsing YAML:** {e}\"))\n",
    "    display(Markdown(\"### Raw Response Text:\"))\n",
    "    display(Markdown(\"```\\n\" + result['response_text'] + \"\\n```\"))\n"
   ]
  }
 ],
 "metadata": {
  "kernelspec": {
   "display_name": "Python3 (main venv)",
   "language": "python",
   "name": "main"
  },
  "language_info": {
   "codemirror_mode": {
    "name": "ipython",
    "version": 3
   },
   "file_extension": ".py",
   "mimetype": "text/x-python",
   "name": "python",
   "nbconvert_exporter": "python",
   "pygments_lexer": "ipython3",
   "version": "3.10.12"
  }
 },
 "nbformat": 4,
 "nbformat_minor": 2
}
